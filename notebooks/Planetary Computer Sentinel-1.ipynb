{
 "cells": [
  {
   "cell_type": "code",
   "execution_count": 1,
   "id": "fa2e4a81-ff06-4f68-a213-aa63b8e05463",
   "metadata": {},
   "outputs": [
    {
     "name": "stdout",
     "output_type": "stream",
     "text": [
      "Please enter your Earthdata Login credentials.\n"
     ]
    },
    {
     "name": "stdin",
     "output_type": "stream",
     "text": [
      "Username:  ········\n",
      "Password:  ········\n"
     ]
    },
    {
     "name": "stdout",
     "output_type": "stream",
     "text": [
      "Successfully authenticated with Earthdata Login.\n"
     ]
    }
   ],
   "source": [
    "# Cell 1: Import Libraries and Authenticate\n",
    "# -------------------------------------------\n",
    "# We start by importing the necessary libraries. `asf_search` is for searching the\n",
    "# ASF archive, `os` is for interacting with the file system, and `getpass`\n",
    "# will allow us to securely enter our Earthdata Login credentials.\n",
    "\n",
    "import asf_search as asf\n",
    "import os\n",
    "from getpass import getpass\n",
    "\n",
    "# It's recommended to authenticate with your Earthdata Login credentials.\n",
    "# This will prevent you from being rate-limited when downloading data.\n",
    "# The `getpass` function will prompt you to securely enter your username and password.\n",
    "try:\n",
    "    # Attempt to get credentials from environment variables first\n",
    "    username = os.environ['EARTHDATA_USERNAME']\n",
    "    password = os.environ['EARTHDATA_PASSWORD']\n",
    "    print(\"Using Earthdata credentials from environment variables.\")\n",
    "except KeyError:\n",
    "    # If not found, prompt the user\n",
    "    print(\"Please enter your Earthdata Login credentials.\")\n",
    "    username = getpass('Username: ')\n",
    "    password = getpass('Password: ')\n",
    "\n",
    "# Create a session with your credentials\n",
    "try:\n",
    "    session = asf.ASFSession().auth_with_creds(username, password)\n",
    "    print(\"Successfully authenticated with Earthdata Login.\")\n",
    "except Exception as e:\n",
    "    print(f\"Authentication failed: {e}\")\n",
    "    # You can still search without authentication, but downloads might be limited.\n",
    "    session = asf.ASFSession()"
   ]
  },
  {
   "cell_type": "code",
   "execution_count": 2,
   "id": "08ccd85f-eb65-4c07-88b4-50006b0931c1",
   "metadata": {},
   "outputs": [],
   "source": [
    "# Cell 2: Define Search Parameters\n",
    "# --------------------------------\n",
    "# Here, we define our Area of Interest (AOI) as a bounding box and the date range\n",
    "# for our scene search.\n",
    "\n",
    "# Bounding Box [min_lon, min_lat, max_lon, max_lat]\n",
    "bbox = [22.92550833727161, 38.7509441550928, 23.563700414775237, 39.08766821216534]\n",
    "\n",
    "# Convert bbox to a WKT string for the asf_search library\n",
    "wkt_aoi = f\"POLYGON (({bbox[0]} {bbox[1]}, {bbox[2]} {bbox[1]}, {bbox[2]} {bbox[3]}, {bbox[0]} {bbox[3]}, {bbox[0]} {bbox[1]}))\"\n",
    "\n",
    "\n",
    "# Date range for the search\n",
    "start_date = \"2021-07-29\"\n",
    "end_date = \"2021-08-22\"\n",
    "\n",
    "# Create a directory to store our data if it doesn't exist\n",
    "if not os.path.exists(\"s1_data\"):\n",
    "    os.makedirs(\"s1_data\")\n",
    "    print(\"Created directory: 's1_data'\")"
   ]
  },
  {
   "cell_type": "code",
   "execution_count": 3,
   "id": "018d7964-98ef-4d24-b7b9-b41721f1ca10",
   "metadata": {},
   "outputs": [
    {
     "name": "stdout",
     "output_type": "stream",
     "text": [
      "\n",
      "Searching for Sentinel-1 scenes...\n",
      "Found 6 scenes.\n",
      "\n",
      "Inspecting found scenes:\n",
      "  - S1A_IW_GRDH_1SDV_20210818T043145_20210818T043210_039279_04A35A_6BBD\n",
      "  - S1B_IW_GRDH_1SDV_20210812T043117_20210812T043142_028208_035D7A_9D15\n",
      "  - S1B_IW_GRDH_1SDV_20210812T043052_20210812T043117_028208_035D7A_71FB\n",
      "  - S1A_IW_GRDH_1SDV_20210806T043144_20210806T043209_039104_049D48_3027\n",
      "  - S1B_IW_GRDH_1SDV_20210731T043116_20210731T043141_028033_035815_3C8B\n",
      "  - S1B_IW_GRDH_1SDV_20210731T043051_20210731T043116_028033_035815_29C7\n"
     ]
    }
   ],
   "source": [
    "# Cell 3: Perform the Search\n",
    "# --------------------------\n",
    "# Now we use our defined parameters to search for Sentinel-1 GRD products.\n",
    "\n",
    "print(\"\\nSearching for Sentinel-1 scenes...\")\n",
    "results = asf.geo_search(\n",
    "    platform=[asf.PLATFORM.SENTINEL1],\n",
    "    intersectsWith=wkt_aoi,\n",
    "    start=start_date,\n",
    "    end=end_date,\n",
    "    processingLevel=[asf.PRODUCT_TYPE.GRD_HD], # Example: Ground Range Detected, High-Resolution\n",
    "    beamMode=[asf.BEAMMODE.IW], # Example: Interferometric Wide swath\n",
    "    flightDirection=asf.FLIGHT_DIRECTION.DESCENDING,\n",
    ")\n",
    "\n",
    "print(f\"Found {len(results)} scenes.\")\n",
    "\n",
    "# You can inspect the results if you want\n",
    "# This loop will print the name of each scene found.\n",
    "print(\"\\nInspecting found scenes:\")\n",
    "for product in results:\n",
    "    print(f\"  - {product.properties['sceneName']}\")"
   ]
  },
  {
   "cell_type": "code",
   "execution_count": 5,
   "id": "32859fa8-c00e-4d17-97c7-3e01c300c0d9",
   "metadata": {},
   "outputs": [
    {
     "name": "stdout",
     "output_type": "stream",
     "text": [
      "\n",
      "Starting download...\n",
      "Download complete.\n"
     ]
    }
   ],
   "source": [
    "# Cell 4: Download the Data\n",
    "# -------------------------\n",
    "# Finally, we can download the scenes found in our search.\n",
    "\n",
    "if results:\n",
    "    print(\"\\nStarting download...\")\n",
    "    # The `download` method takes the search results, the target directory,\n",
    "    # and the session object with our authentication.\n",
    "    results.download(path=\"s1_data\", session=session)\n",
    "    print(\"Download complete.\")\n",
    "else:\n",
    "    print(\"\\nNo scenes found to download for the given parameters.\")"
   ]
  },
  {
   "cell_type": "code",
   "execution_count": null,
   "id": "ce0263c0-7990-42c7-a70d-d9c5dfba4108",
   "metadata": {},
   "outputs": [],
   "source": []
  }
 ],
 "metadata": {
  "kernelspec": {
   "display_name": "Python 3 (ipykernel)",
   "language": "python",
   "name": "python3"
  },
  "language_info": {
   "codemirror_mode": {
    "name": "ipython",
    "version": 3
   },
   "file_extension": ".py",
   "mimetype": "text/x-python",
   "name": "python",
   "nbconvert_exporter": "python",
   "pygments_lexer": "ipython3",
   "version": "3.12.3"
  }
 },
 "nbformat": 4,
 "nbformat_minor": 5
}
